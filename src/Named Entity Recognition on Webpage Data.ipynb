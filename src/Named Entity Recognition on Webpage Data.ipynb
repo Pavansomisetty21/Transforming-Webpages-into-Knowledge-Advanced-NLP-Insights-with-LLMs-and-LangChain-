{
 "cells": [
  {
   "cell_type": "code",
   "execution_count": 22,
   "id": "2d266a99-7e44-44ad-8368-d791bbee1786",
   "metadata": {},
   "outputs": [
    {
     "name": "stdout",
     "output_type": "stream",
     "text": [
      "\"E\" :[Organization] ,\"T\": \"Forbes India Blogs\"\n",
      "\"E\" :[Organization] ,\"T\": \"Forbes India\"\n",
      "\"E\" :[Organization] ,\"T\": \"Forbes Life\"\n",
      "\"E\" :[Person] ,\"T\": \"Abhishek Mishra\"\n",
      "\"E\" :[Organization] ,\"T\": \"Physics Wallah (PW) online\"\n",
      "\"E\" :[Organization] ,\"T\": \"IIT Madras\"\n",
      "\"E\" :[Organization] ,\"T\": \"International Management Institute\"\n",
      "\"E\" :[Organization] ,\"T\": \"IIM Kozhikode\"\n",
      "\"E\" :[Organization] ,\"T\": \"Duke University\"\n",
      "\"E\" :[Organization] ,\"T\": \"ESSEC Business School\"\n",
      "\"E\" :[Organization] ,\"T\": \"IIM Ahmedabad\"\n",
      "\"E\" :[Organization] ,\"T\": \"IIM Calcutta\"\n",
      "\"E\" :[Organization] ,\"T\": \"Fuqua School of Business\"\n",
      "\"E\" :[Organization] ,\"T\": \"Darden School of Business\"\n",
      "\"E\" :[Organization] ,\"T\": \"EDHEC\"\n",
      "\"E\" :[Organization] ,\"T\": \"Kellogg School of Management\"\n",
      "\"E\" :[Organization] ,\"T\": \"Business Evangelist of India\"\n",
      "\"E\" :[Organization] ,\"T\": \"Education Evangelists of India\"\n"
     ]
    }
   ],
   "source": [
    "# Nameed Entity Recognition on web pages Using LangChain with Gemini api key\n",
    "\n",
    "\n",
    "from langchain_google_genai import ChatGoogleGenerativeAI\n",
    "from langchain_google_genai import GoogleGenerativeAIEmbeddings\n",
    "from langchain_community.document_loaders import WebBaseLoader\n",
    "from langchain.chains import StuffDocumentsChain\n",
    "from langchain.chains.llm import LLMChain\n",
    "from langchain.prompts import PromptTemplate\n",
    "import os\n",
    "\n",
    "# Set the API key as an environment variable\n",
    "os.environ[\"GOOGLE_API_KEY\"] = \"Your gemini api key\"\n",
    "\n",
    "# Initialize Model with API key\n",
    "llm = ChatGoogleGenerativeAI(google_api_key=os.environ[\"GOOGLE_API_KEY\"], model=\"gemini-pro\")\n",
    "\n",
    "# Load the blog\n",
    "loader = WebBaseLoader(\"https://www.forbesindia.com/blog/education/edtech-needs-corporate-governance-here-are-6-ways-to-achieve-it/\")\n",
    "docs = loader.load()\n",
    "\n",
    "# Define the Summarize Chain\n",
    "template = '''Identify and classify all named entities in the text extract clearly and understand the condition when you classify\n",
    "donot neglet any text classify all text even a single word and in the  classification process the output will be same as promptify get\n",
    "\n",
    "\n",
    "Text:\n",
    "\"{text}\"\n",
    "\n",
    "Output Format:\n",
    "\n",
    "For each identified entity, provide the entity text along with its category. Use the following format:\n",
    "\n",
    "\"E\" :[Category] ,\"T\": [Entity Text]\n",
    "\n",
    "'''\n",
    "\n",
    "prompt = PromptTemplate.from_template(template)\n",
    "\n",
    "llm_chain = LLMChain(llm=llm, prompt=prompt)\n",
    "stuff_chain = StuffDocumentsChain(llm_chain=llm_chain, document_variable_name=\"text\")\n",
    "\n",
    "# Invoke Chain\n",
    "response = stuff_chain.invoke(docs)\n",
    "print(response[\"output_text\"])\n"
   ]
  },
  {
   "cell_type": "code",
   "execution_count": null,
   "id": "1ff6b89c-67a0-4cd2-9acd-a4c6bf6729f8",
   "metadata": {},
   "outputs": [],
   "source": []
  }
 ],
 "metadata": {
  "kernelspec": {
   "display_name": "Python 3 (ipykernel)",
   "language": "python",
   "name": "python3"
  },
  "language_info": {
   "codemirror_mode": {
    "name": "ipython",
    "version": 3
   },
   "file_extension": ".py",
   "mimetype": "text/x-python",
   "name": "python",
   "nbconvert_exporter": "python",
   "pygments_lexer": "ipython3",
   "version": "3.11.9"
  }
 },
 "nbformat": 4,
 "nbformat_minor": 5
}
