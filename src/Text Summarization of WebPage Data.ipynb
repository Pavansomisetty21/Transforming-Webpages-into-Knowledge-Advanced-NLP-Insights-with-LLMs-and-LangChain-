{
 "cells": [
  {
   "cell_type": "code",
   "execution_count": 1,
   "id": "e0d6bb4e-c5ed-4c17-bef8-dd9eb1bb65ec",
   "metadata": {},
   "outputs": [
    {
     "name": "stderr",
     "output_type": "stream",
     "text": [
      "USER_AGENT environment variable not set, consider setting it to identify your requests.\n",
      "C:\\Users\\pavan\\AppData\\Local\\anaconda3\\envs\\prompt\\Lib\\site-packages\\langchain_core\\_api\\deprecation.py:139: LangChainDeprecationWarning: The class `LLMChain` was deprecated in LangChain 0.1.17 and will be removed in 1.0. Use RunnableSequence, e.g., `prompt | llm` instead.\n",
      "  warn_deprecated(\n"
     ]
    },
    {
     "name": "stdout",
     "output_type": "stream",
     "text": [
      "Large language models (LLMs) rely on three key concepts: vectors, tokens, and embeddings. Vectors are numerical representations that capture the magnitude and direction of data, enabling mathematical operations. Tokens are the basic units of data processed by LLMs, representing words, parts of words, or characters. Embeddings are vectors that incorporate semantic context, allowing LLMs to understand the meaning and relationships within text. Together, these components form the foundation of LLM technology, empowering them to perform sophisticated language-based tasks.\"\n"
     ]
    }
   ],
   "source": [
    "# Text Summarization on web pages Using LangChain with Gemini api key\n",
    "from langchain_google_genai import ChatGoogleGenerativeAI\n",
    "from langchain_google_genai import GoogleGenerativeAIEmbeddings\n",
    "from langchain_community.document_loaders import WebBaseLoader\n",
    "from langchain.chains import StuffDocumentsChain\n",
    "from langchain.chains.llm import LLMChain\n",
    "from langchain.prompts import PromptTemplate\n",
    "import os\n",
    "\n",
    "# Set the API key as an environment variable\n",
    "os.environ[\"GOOGLE_API_KEY\"] = \"Your gemini api key\"\n",
    "\n",
    "# Initialize Model with API key\n",
    "llm = ChatGoogleGenerativeAI(google_api_key=os.environ[\"GOOGLE_API_KEY\"], model=\"gemini-pro\")\n",
    "\n",
    "# Load the blog\n",
    "loader = WebBaseLoader(\"https://thenewstack.io/the-building-blocks-of-llms-vectors-tokens-and-embeddings/\")\n",
    "docs = loader.load()\n",
    "\n",
    "# Define the Summarize Chain\n",
    "template = \"\"\"Write a concise summary of the following:\n",
    "\"{text}\"\n",
    "CONCISE SUMMARY:\"\"\"\n",
    "\n",
    "prompt = PromptTemplate.from_template(template)\n",
    "\n",
    "llm_chain = LLMChain(llm=llm, prompt=prompt)\n",
    "stuff_chain = StuffDocumentsChain(llm_chain=llm_chain, document_variable_name=\"text\")\n",
    "\n",
    "# Invoke Chain\n",
    "response = stuff_chain.invoke(docs)\n",
    "print(response[\"output_text\"])\n"
   ]
  },
  {
   "cell_type": "code",
   "execution_count": 2,
   "id": "0c04a01d-8735-4fe1-98a7-17363dd9d110",
   "metadata": {},
   "outputs": [
    {
     "name": "stdout",
     "output_type": "stream",
     "text": [
      "JDBC (Java Database Connectivity) is a Java API for database interaction. It uses JDBC drivers to connect to databases and execute queries. JDBC offers advantages over ODBC by providing Java-based drivers. Popular JDBC API interfaces include Driver, Connection, Statement, PreparedStatement, CallableStatement, ResultSet, and DatabaseMetaData. JDBC enables tasks such as connecting to databases, executing queries, and managing transactions.\n"
     ]
    }
   ],
   "source": [
    "# Text Summarization on web pages Using LangChain with Gemini api key\n",
    "from langchain_google_genai import ChatGoogleGenerativeAI\n",
    "from langchain_google_genai import GoogleGenerativeAIEmbeddings\n",
    "from langchain_community.document_loaders import WebBaseLoader\n",
    "from langchain.chains import StuffDocumentsChain\n",
    "from langchain.chains.llm import LLMChain\n",
    "from langchain.prompts import PromptTemplate\n",
    "import os\n",
    "\n",
    "# Set the API key as an environment variable\n",
    "os.environ[\"GOOGLE_API_KEY\"] = \"Your gemini api key\"\n",
    "\n",
    "# Initialize Model with API key\n",
    "llm = ChatGoogleGenerativeAI(google_api_key=os.environ[\"GOOGLE_API_KEY\"], model=\"gemini-pro\")\n",
    "\n",
    "# Load the blog\n",
    "loader = WebBaseLoader(\"https://www.javatpoint.com/java-jdbc\")\n",
    "docs = loader.load()\n",
    "\n",
    "# Define the Summarize Chain\n",
    "template = \"\"\"Write a concise summary of the following:\n",
    "\"{text}\"\n",
    "CONCISE SUMMARY:\"\"\"\n",
    "\n",
    "prompt = PromptTemplate.from_template(template)\n",
    "\n",
    "llm_chain = LLMChain(llm=llm, prompt=prompt)\n",
    "stuff_chain = StuffDocumentsChain(llm_chain=llm_chain, document_variable_name=\"text\")\n",
    "\n",
    "# Invoke Chain\n",
    "response = stuff_chain.invoke(docs)\n",
    "print(response[\"output_text\"])\n"
   ]
  },
  {
   "cell_type": "code",
   "execution_count": null,
   "id": "a7bca652-ec27-4927-a093-8ca372935fb4",
   "metadata": {},
   "outputs": [],
   "source": []
  }
 ],
 "metadata": {
  "kernelspec": {
   "display_name": "Python 3 (ipykernel)",
   "language": "python",
   "name": "python3"
  },
  "language_info": {
   "codemirror_mode": {
    "name": "ipython",
    "version": 3
   },
   "file_extension": ".py",
   "mimetype": "text/x-python",
   "name": "python",
   "nbconvert_exporter": "python",
   "pygments_lexer": "ipython3",
   "version": "3.11.9"
  }
 },
 "nbformat": 4,
 "nbformat_minor": 5
}
