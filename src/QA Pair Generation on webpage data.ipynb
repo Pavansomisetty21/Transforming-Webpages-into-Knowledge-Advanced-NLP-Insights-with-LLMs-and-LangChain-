{
 "cells": [
  {
   "cell_type": "code",
   "execution_count": 3,
   "id": "b1de0ab1-49f2-440d-bfc5-9213c3d85061",
   "metadata": {},
   "outputs": [
    {
     "name": "stdout",
     "output_type": "stream",
     "text": [
      "Q: What is JDBC?\n",
      "A: JDBC stands for Java Database Connectivity. It is a Java API to connect and execute queries with a database.\n",
      "\n",
      "Q: What are the benefits of using JDBC?\n",
      "A:\n",
      "\n",
      "* It allows Java programs to connect to databases.\n",
      "* It provides a standard way to interact with databases.\n",
      "* It simplifies database programming.\n",
      "\n",
      "Q: What are the four types of JDBC drivers?\n",
      "A:\n",
      "\n",
      "* JDBC-ODBC Bridge Driver\n",
      "* Native Driver\n",
      "* Network Protocol Driver\n",
      "* Thin Driver\n",
      "\n",
      "Q: What is the difference between Statement and PreparedStatement interfaces?\n",
      "A: Statement interface is used to execute SQL statements. PreparedStatement interface is used to execute parameterized SQL statements. PreparedStatement is more efficient than Statement because it compiles the SQL statement once and then executes it multiple times with different parameters.\n",
      "\n",
      "Q: How can we store and retrieve images from a database using JDBC?\n",
      "A: We can use the Blob class to store and retrieve images from a database. The Blob class provides methods for reading and writing binary data.\n",
      "\n",
      "Q: How can we store and retrieve files from a database using JDBC?\n",
      "A: We can use the Clob class to store and retrieve files from a database. The Clob class provides methods for reading and writing character data.\n"
     ]
    }
   ],
   "source": [
    "# Generation of QA pairs on web pages Using LangChain with Gemini api key\n",
    "from langchain_google_genai import ChatGoogleGenerativeAI\n",
    "from langchain_google_genai import GoogleGenerativeAIEmbeddings\n",
    "from langchain_community.document_loaders import WebBaseLoader\n",
    "from langchain.chains import StuffDocumentsChain\n",
    "from langchain.chains.llm import LLMChain\n",
    "from langchain.prompts import PromptTemplate\n",
    "import os\n",
    "\n",
    "# Set the API key as an environment variable\n",
    "os.environ[\"GOOGLE_API_KEY\"] = \"Your gemini api key\"\n",
    "\n",
    "# Initialize Model with API key\n",
    "llm = ChatGoogleGenerativeAI(google_api_key=os.environ[\"GOOGLE_API_KEY\"], model=\"gemini-pro\")\n",
    "\n",
    "# Load the blog\n",
    "loader = WebBaseLoader(\"https://www.javatpoint.com/java-jdbc\") #webpage link\n",
    "docs = loader.load()\n",
    "\n",
    "# Define the Summarize Chain\n",
    "template = \"\"\"Generate question-answer pairs from the following text:\n",
    "\"{text}\"\n",
    "Q:\n",
    "A:\"\"\"\n",
    "prompt = PromptTemplate.from_template(template)\n",
    "\n",
    "llm_chain = LLMChain(llm=llm, prompt=prompt)\n",
    "stuff_chain = StuffDocumentsChain(llm_chain=llm_chain, document_variable_name=\"text\")\n",
    "\n",
    "# Invoke Chain\n",
    "response = stuff_chain.invoke(docs)\n",
    "print(response[\"output_text\"])\n",
    "\n"
   ]
  },
  {
   "cell_type": "code",
   "execution_count": null,
   "id": "2d266a99-7e44-44ad-8368-d791bbee1786",
   "metadata": {},
   "outputs": [],
   "source": []
  }
 ],
 "metadata": {
  "kernelspec": {
   "display_name": "Python 3 (ipykernel)",
   "language": "python",
   "name": "python3"
  },
  "language_info": {
   "codemirror_mode": {
    "name": "ipython",
    "version": 3
   },
   "file_extension": ".py",
   "mimetype": "text/x-python",
   "name": "python",
   "nbconvert_exporter": "python",
   "pygments_lexer": "ipython3",
   "version": "3.11.9"
  }
 },
 "nbformat": 4,
 "nbformat_minor": 5
}
