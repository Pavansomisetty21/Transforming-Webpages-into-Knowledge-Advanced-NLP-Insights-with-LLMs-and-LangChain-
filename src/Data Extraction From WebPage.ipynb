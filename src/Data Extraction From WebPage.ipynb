{
 "cells": [
  {
   "cell_type": "code",
   "execution_count": 6,
   "id": "a7bca652-ec27-4927-a093-8ca372935fb4",
   "metadata": {},
   "outputs": [
    {
     "name": "stdout",
     "output_type": "stream",
     "text": [
      "**Edtech Needs Corporate Governance: Here Are 6 Ways To Achieve It - Forbes India Blogs**\n",
      "\n",
      "**By Abhishek Mishra**\n",
      "\n",
      "**Updated: Aug 9, 2023 02:40:37 PM UTC**\n",
      "\n",
      "**Despite witnessing a sustained surge in funding and global investor interest in the past few years, the Indian edtech sector, grapples with persistent allegations of subpar corporate governance. Many players in the ecosystem struggle to align governance standards with their growth and results. It leads to layoffs, accusations of unfair trade practices, and gaps in bookkeeping.**\n",
      "\n",
      "**While the allure of investor interest in this nascent and promising market brings substantial valuations and capital, the sector must not lose sight of the fundamental principles of good business. Balancing growth with integrity, accountability, and ethical decision-making is paramount to building a resilient ecosystem that safeguards the interests of all stakeholders and fosters innovation, knowledge dissemination, and holistic growth.**\n",
      "\n",
      "**In the edtech industry, placing students at the core of the business and adopting a straightforward framework that other companies can learn from and implement is essential.**\n",
      "\n",
      "**1) Commitment to team excellence**  \n",
      "**To ensure top-notch quality, the edtech industry should maintain dedicated Quality Excellence departments for academic and operations teams. These departments diligently monitor output quality through regular training, induction, and audits. The sector should offer a comprehensive three-level Training and Certification programme (L0/L1/L2) linked to performance evaluations, ensuring team members stay updated with the latest knowledge and skills, paving the way for their career advancement within their respective organisations.**\n",
      "\n",
      "**2) Pervading cost consciousness** \n",
      "**Embedded in the ethos of the edtech industry is a strong sense of cost consciousness. The industry should provide free access to educational content via platforms like YouTube, making it accessible to all. Paid courses should also be priced at affordable rates. Additionally, a dedicated Cost Excellence vertical should optimise every rupee spent by monitoring market rates, renegotiating contracts, and maintaining a frugal approach to expenses. From ride-pooling, room sharing, and tracking marketing spending to embracing a work-from-home/ bring-your-own-device culture, cost consciousness needs to permeate every aspect of operations within the industry.**\n",
      "\n",
      "**3) An improved organisational set-up** \n",
      "**In the edtech industry, an alternative approach to building teams must be implemented, empowering a large number of capable freshers and being led by lean top-level management. Rigorous hiring processes ensure the best fit, and recruits undergo extensive training to meet the organisation's expectations. This approach will enable the swift execution of plans and ensure that recognition and compensation are based on individual contributions rather than hierarchical positions. Promising team members are identified and offered growth opportunities, fostering motivation and performance.**\n",
      "\n",
      "**4) Ensuring operational efficiency** \n",
      "**The edtech industry must adopt a centralised decentralisation approach for backend operations across multiple categories to maintain quality and control. Avoid hiring new personnel for the same function in each new category, as it aligns differently from their way of working, ensures standardised processes, and enables scaling without bloating teams. Subject Matter Experts (SMEs) work across categories, serving as repositories of best practices that are shared with new team members as needed. This agile approach allows the industry to efficiently onboard new categories while optimising resources.**\n",
      "\n",
      "**5) Transparency and responsibility**\n",
      "**In the industry, best practices are upheld through regular check-ins, meetings, and engagements with shareholders. They will keep well-informed about crucial financials, performance indicators, and essential metrics that demonstrate the link between protocol and performance. The commitment to transparent communication fosters confidence among shareholders, assuring them that their capital is being utilised responsibly.**\n",
      "\n",
      "**6) Embracing diversity and inclusion (D&I)**\n",
      "**Incorporating diversity and inclusion practices will be vital to the industry's success. It will bring fresh perspectives that align with India's diverse population, making outreach and programmes more relevant to students across geographies and social strata. This approach will enrich the talent pipeline and create a more inclusive and effective education ecosystem.**\n",
      "\n",
      "**This collective approach to people, products, and processes will prove successful for the edtech industry. It will support future plans and provide a solid foundation to address India's need for affordable, high-quality education. Edtech companies create impactful and seamless learning experiences by placing students at the forefront. By prioritising student-centric approaches, they can foster innovation and trust and deliver on their mission of providing high-quality education to the next generation. With tailored offerings, advanced technologies, and collaborative environments, these companies empower learners, unlock their potential, and contribute to a brighter future.**\n",
      "\n",
      "**The writer is a CEO of Physics Wallah (PW) online.**\n",
      "\n",
      "**The thoughts and opinions shared here are of the author.**\n",
      "\n",
      "**Check out our end of season subscription discounts with a Moneycontrol pro subscription absolutely free. Use code EOSO2021. Click here  for details.**\n"
     ]
    }
   ],
   "source": [
    "# Data extraction from webpage\n",
    "from langchain_google_genai import ChatGoogleGenerativeAI\n",
    "from langchain_google_genai import GoogleGenerativeAIEmbeddings\n",
    "from langchain_community.document_loaders import WebBaseLoader\n",
    "from langchain.chains import StuffDocumentsChain\n",
    "from langchain.chains.llm import LLMChain\n",
    "from langchain.prompts import PromptTemplate\n",
    "import os\n",
    "\n",
    "# Set the API key as an environment variable\n",
    "os.environ[\"GOOGLE_API_KEY\"] = \"Your Gemini api key\"\n",
    "\n",
    "# Initialize Model with API key\n",
    "llm = ChatGoogleGenerativeAI(google_api_key=os.environ[\"GOOGLE_API_KEY\"], model=\"gemini-pro\")\n",
    "\n",
    "# Load the blog\n",
    "loader = WebBaseLoader(\"https://www.forbesindia.com/blog/education/edtech-needs-corporate-governance-here-are-6-ways-to-achieve-it/\")\n",
    "docs = loader.load()\n",
    "\n",
    "# Define the Summarize Chain\n",
    "template = \"\"\" extract all text data from webpage\n",
    "{text}\"\"\"\n",
    "\n",
    "prompt = PromptTemplate.from_template(template)\n",
    "\n",
    "llm_chain = LLMChain(llm=llm, prompt=prompt)\n",
    "stuff_chain = StuffDocumentsChain(llm_chain=llm_chain, document_variable_name=\"text\")\n",
    "\n",
    "# Invoke Chain\n",
    "response = stuff_chain.invoke(docs)\n",
    "print(response[\"output_text\"])\n"
   ]
  },
  {
   "cell_type": "code",
   "execution_count": null,
   "id": "9a66066f-2486-4be8-baea-29afd4320631",
   "metadata": {},
   "outputs": [],
   "source": []
  }
 ],
 "metadata": {
  "kernelspec": {
   "display_name": "Python 3 (ipykernel)",
   "language": "python",
   "name": "python3"
  },
  "language_info": {
   "codemirror_mode": {
    "name": "ipython",
    "version": 3
   },
   "file_extension": ".py",
   "mimetype": "text/x-python",
   "name": "python",
   "nbconvert_exporter": "python",
   "pygments_lexer": "ipython3",
   "version": "3.11.9"
  }
 },
 "nbformat": 4,
 "nbformat_minor": 5
}
