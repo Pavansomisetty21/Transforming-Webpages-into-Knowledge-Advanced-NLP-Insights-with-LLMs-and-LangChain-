{
 "cells": [
  {
   "cell_type": "code",
   "execution_count": 3,
   "id": "a7bca652-ec27-4927-a093-8ca372935fb4",
   "metadata": {},
   "outputs": [
    {
     "name": "stdout",
     "output_type": "stream",
     "text": [
      "JDBC stands for Java Database Connectivity. It is a Java API to connect and execute queries with a database. It is part of JavaSE (Java Standard Edition).\n"
     ]
    }
   ],
   "source": [
    "#Question Answering on webpage data\n",
    "from langchain_google_genai import ChatGoogleGenerativeAI\n",
    "from langchain_community.document_loaders import WebBaseLoader\n",
    "from langchain.chains import StuffDocumentsChain, LLMChain\n",
    "from langchain.prompts import PromptTemplate\n",
    "import os\n",
    "\n",
    "# Set the API key as an environment variable\n",
    "os.environ[\"GOOGLE_API_KEY\"] = \"Your gemini api key\"\n",
    "\n",
    "# Initialize LangChain model with Gemini API\n",
    "llm = ChatGoogleGenerativeAI(google_api_key=os.environ[\"GOOGLE_API_KEY\"], model=\"gemini-pro\")\n",
    "\n",
    "# Load the web page\n",
    "loader = WebBaseLoader(\"https://www.javatpoint.com/java-jdbc\")\n",
    "docs = loader.load()\n",
    "\n",
    "# Define the input question\n",
    "input_question = \"What is JDBC?\"\n",
    "\n",
    "# Define the template for generating the answer\n",
    "template = \"\"\"Generate answer to {input_question} from the following text:\n",
    "\"{text}\"\n",
    "\"\"\"\n",
    "prompt = PromptTemplate.from_template(template)\n",
    "\n",
    "# Initialize LLMChain with LangChain model and prompt\n",
    "llm_chain = LLMChain(llm=llm, prompt=prompt)\n",
    "\n",
    "# Prepare input for StuffDocumentsChain\n",
    "input_data = {\n",
    "    \"input_documents\": docs,  # Ensure documents are under this key\n",
    "    \"input_question\": input_question,  # Include the input question\n",
    "}\n",
    "\n",
    "# Initialize StuffDocumentsChain for processing documents\n",
    "stuff_chain = StuffDocumentsChain(llm_chain=llm_chain, document_variable_name=\"text\")\n",
    "\n",
    "# Invoke the chain to generate question-answer pairs\n",
    "response = stuff_chain.invoke(input_data)\n",
    "print(response[\"output_text\"])\n"
   ]
  },
  {
   "cell_type": "code",
   "execution_count": null,
   "id": "9a66066f-2486-4be8-baea-29afd4320631",
   "metadata": {},
   "outputs": [],
   "source": []
  }
 ],
 "metadata": {
  "kernelspec": {
   "display_name": "Python 3 (ipykernel)",
   "language": "python",
   "name": "python3"
  },
  "language_info": {
   "codemirror_mode": {
    "name": "ipython",
    "version": 3
   },
   "file_extension": ".py",
   "mimetype": "text/x-python",
   "name": "python",
   "nbconvert_exporter": "python",
   "pygments_lexer": "ipython3",
   "version": "3.11.9"
  }
 },
 "nbformat": 4,
 "nbformat_minor": 5
}
